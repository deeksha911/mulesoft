{
  "nbformat": 4,
  "nbformat_minor": 0,
  "metadata": {
    "colab": {
      "name": "movies.ipynb",
      "provenance": []
    },
    "kernelspec": {
      "name": "python3",
      "display_name": "Python 3"
    },
    "language_info": {
      "name": "python"
    }
  },
  "cells": [
    {
      "cell_type": "code",
      "source": [
        "import sqlite3 as sql\n",
        "\n",
        "connection = sql.connect(\"dabaseMovies.db\")\n",
        "\n",
        "pointer = connection.cursor()\n",
        "pointer.execute(\"CREATE TABLE IF NOT EXISTS MOVIES( NAME TEXT, ACTOR TEXT, ACTRESS TEXT,DIRECTOR_NAME TEXT, YEAR INTEGER )\")\n",
        "pointer.execute(\"INSERT INTO MOVIES VALUES('Harry Potter','Daniel','Emma','David yates',2011)\")\n",
        "pointer.execute(\"INSERT INTO MOVIES VALUES('Tangled','Zachary','Mandy','Nathan Greno',2010)\")\n",
        "pointer.execute(\"INSERT INTO MOVIES VALUES('Cars','Owen','Bonnie','Brain Fee',2017)\")\n",
        "pointer.execute(\"INSERT INTO MOVIES VALUES('Onward','Chris','Octavia','Dan Scanion',2020)\")\n",
        "pointer.execute(\"INSERT INTO MOVIES VALUES('Spider-Man: No Way Home','Tom Holland','Zendaya','Jon Watts',2021)\")\n",
        "\n",
        "# Printing all the elements of the database \n",
        "print(\"************************Everything in the database************************\")\n",
        "allMovies = pointer.execute(\"SELECT * FROM MOVIES\").fetchall()\n",
        "for i in allMovies:\n",
        "  title,actor,actress,director,releasedYear = i\n",
        "  print(\"{t}\\t\\t{a}\\t\\t{ats}\\t\\t{d}\\t\\t{ry}\".format(t=title,a=actor, ats=actress,d=director,ry=releasedYear))\n",
        "  print(\"============================================================================================\")\n",
        "\n",
        "# In this query, we are printing only the details from the db where Tom Holland is the lead actor\n",
        "print(\"************************Actor Query************************\")\n",
        "actorQuery = pointer.execute(\"SELECT * FROM MOVIES WHERE ACTOR = 'Daniel'\").fetchall()\n",
        "for i in actorQuery:\n",
        "  title,actor,actress,director,releasedYear = i\n",
        "  print(\"{t}\\t\\t{a}\\t\\t{ats}\\t\\t{d}\\t\\t{ry}\".format(t=title,a=actor, ats=actress,d=director,ry=releasedYear))\n",
        "  print(\"============================================================================================\")\n",
        "  "
      ],
      "metadata": {
        "colab": {
          "base_uri": "https://localhost:8080/"
        },
        "id": "NUpLUUxNQ2OT",
        "outputId": "9d87e659-29e7-4f66-9e52-c051d5e3023c"
      },
      "execution_count": 4,
      "outputs": [
        {
          "output_type": "stream",
          "name": "stdout",
          "text": [
            "************************Everything in the database************************\n",
            "Harry Potter\t\tDaniel\t\tEmma\t\tDavid yates\t\t2011\n",
            "============================================================================================\n",
            "Tangled\t\tZachary\t\tMandy\t\tNathan Greno\t\t2010\n",
            "============================================================================================\n",
            "Cars\t\tOwen\t\tBonnie\t\tBrain Fee\t\t2017\n",
            "============================================================================================\n",
            "Onward\t\tChris\t\tOctavia\t\tDan Scanion\t\t2020\n",
            "============================================================================================\n",
            "Spider-Man: No Way Home\t\tTom Holland\t\tZendaya\t\tJon Watts\t\t2021\n",
            "============================================================================================\n",
            "************************Actor Query************************\n",
            "Harry Potter\t\tDaniel\t\tEmma\t\tDavid yates\t\t2011\n",
            "============================================================================================\n"
          ]
        }
      ]
    }
  ]
}